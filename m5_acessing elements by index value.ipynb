{
 "cells": [
  {
   "cell_type": "code",
   "execution_count": 8,
   "metadata": {},
   "outputs": [
    {
     "name": "stdout",
     "output_type": "stream",
     "text": [
      " enter the index value to view 3\n",
      "the element present in  3  index is  brown\n"
     ]
    }
   ],
   "source": [
    "n=int(input(\" enter the index value to view \"))\n",
    "x=[\"yellow\",\"black\",\"blue\",\"brown\",\"white\"]\n",
    "print(\"the element present in \",n,\" index is \",x[n])"
   ]
  }
 ],
 "metadata": {
  "kernelspec": {
   "display_name": "Python 3",
   "language": "python",
   "name": "python3"
  },
  "language_info": {
   "codemirror_mode": {
    "name": "ipython",
    "version": 3
   },
   "file_extension": ".py",
   "mimetype": "text/x-python",
   "name": "python",
   "nbconvert_exporter": "python",
   "pygments_lexer": "ipython3",
   "version": "3.8.3"
  }
 },
 "nbformat": 4,
 "nbformat_minor": 4
}
